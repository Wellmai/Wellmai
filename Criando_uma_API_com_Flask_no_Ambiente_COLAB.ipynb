{
  "nbformat": 4,
  "nbformat_minor": 0,
  "metadata": {
    "colab": {
      "provenance": []
    },
    "kernelspec": {
      "name": "python3",
      "display_name": "Python 3"
    },
    "language_info": {
      "name": "python"
    }
  },
  "cells": [
    {
      "cell_type": "code",
      "source": [
        "from flask import Flask, jsonify\n",
        "import json\n",
        "\n",
        "app = Flask(__name__)\n",
        "\n",
        "app = Flask\n",
        "@app.route('/api/ler-dados', methods=['GET'])\n",
        "def ler_dados():\n",
        "\n",
        "         with open('seu_arquivo.json', 'r') as arquivo_json:\n",
        "            dados = json.load(arquivo_json)\n",
        "        return jsonify(dados)\n",
        "    except Exception as e:\n",
        "        return jsonify({'erro': str(e)})\n",
        "\n",
        "if __name__ == '__main__':\n",
        "    app.run()"
      ],
      "metadata": {
        "id": "ikCD1KzRAuwq"
      },
      "execution_count": null,
      "outputs": []
    }
  ]
}